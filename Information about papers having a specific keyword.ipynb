{
  "nbformat": 4,
  "nbformat_minor": 0,
  "metadata": {
    "colab": {
      "provenance": []
    },
    "kernelspec": {
      "name": "python3",
      "display_name": "Python 3"
    },
    "language_info": {
      "name": "python"
    }
  },
  "cells": [
    {
      "cell_type": "code",
      "source": [
        "!pip install scholarly"
      ],
      "metadata": {
        "colab": {
          "base_uri": "https://localhost:8080/"
        },
        "id": "NMFteGTuzAo8",
        "outputId": "116f8cf7-d8b7-4967-b872-b9a47ba897d6"
      },
      "execution_count": 1,
      "outputs": [
        {
          "output_type": "stream",
          "name": "stdout",
          "text": [
            "Looking in indexes: https://pypi.org/simple, https://us-python.pkg.dev/colab-wheels/public/simple/\n",
            "Requirement already satisfied: scholarly in /usr/local/lib/python3.8/dist-packages (1.7.11)\n",
            "Requirement already satisfied: bibtexparser in /usr/local/lib/python3.8/dist-packages (from scholarly) (1.4.0)\n",
            "Requirement already satisfied: arrow in /usr/local/lib/python3.8/dist-packages (from scholarly) (1.2.3)\n",
            "Requirement already satisfied: python-dotenv in /usr/local/lib/python3.8/dist-packages (from scholarly) (1.0.0)\n",
            "Requirement already satisfied: beautifulsoup4 in /usr/local/lib/python3.8/dist-packages (from scholarly) (4.6.3)\n",
            "Requirement already satisfied: requests[socks] in /usr/local/lib/python3.8/dist-packages (from scholarly) (2.25.1)\n",
            "Requirement already satisfied: fake-useragent in /usr/local/lib/python3.8/dist-packages (from scholarly) (1.1.1)\n",
            "Requirement already satisfied: free-proxy in /usr/local/lib/python3.8/dist-packages (from scholarly) (1.1.1)\n",
            "Requirement already satisfied: httpx in /usr/local/lib/python3.8/dist-packages (from scholarly) (0.23.3)\n",
            "Requirement already satisfied: typing-extensions in /usr/local/lib/python3.8/dist-packages (from scholarly) (4.5.0)\n",
            "Requirement already satisfied: deprecated in /usr/local/lib/python3.8/dist-packages (from scholarly) (1.2.13)\n",
            "Requirement already satisfied: selenium in /usr/local/lib/python3.8/dist-packages (from scholarly) (4.8.2)\n",
            "Requirement already satisfied: sphinx-rtd-theme in /usr/local/lib/python3.8/dist-packages (from scholarly) (1.2.0)\n",
            "Requirement already satisfied: python-dateutil>=2.7.0 in /usr/local/lib/python3.8/dist-packages (from arrow->scholarly) (2.8.2)\n",
            "Requirement already satisfied: pyparsing>=2.0.3 in /usr/local/lib/python3.8/dist-packages (from bibtexparser->scholarly) (3.0.9)\n",
            "Requirement already satisfied: wrapt<2,>=1.10 in /usr/local/lib/python3.8/dist-packages (from deprecated->scholarly) (1.15.0)\n",
            "Requirement already satisfied: importlib-resources>=5.0 in /usr/local/lib/python3.8/dist-packages (from fake-useragent->scholarly) (5.12.0)\n",
            "Requirement already satisfied: lxml in /usr/local/lib/python3.8/dist-packages (from free-proxy->scholarly) (4.9.2)\n",
            "Requirement already satisfied: certifi in /usr/local/lib/python3.8/dist-packages (from httpx->scholarly) (2022.12.7)\n",
            "Requirement already satisfied: rfc3986[idna2008]<2,>=1.3 in /usr/local/lib/python3.8/dist-packages (from httpx->scholarly) (1.5.0)\n",
            "Requirement already satisfied: sniffio in /usr/local/lib/python3.8/dist-packages (from httpx->scholarly) (1.3.0)\n",
            "Requirement already satisfied: httpcore<0.17.0,>=0.15.0 in /usr/local/lib/python3.8/dist-packages (from httpx->scholarly) (0.16.3)\n",
            "Requirement already satisfied: idna<3,>=2.5 in /usr/local/lib/python3.8/dist-packages (from requests[socks]->scholarly) (2.10)\n",
            "Requirement already satisfied: chardet<5,>=3.0.2 in /usr/local/lib/python3.8/dist-packages (from requests[socks]->scholarly) (4.0.0)\n",
            "Requirement already satisfied: urllib3<1.27,>=1.21.1 in /usr/local/lib/python3.8/dist-packages (from requests[socks]->scholarly) (1.26.14)\n",
            "Requirement already satisfied: PySocks!=1.5.7,>=1.5.6 in /usr/local/lib/python3.8/dist-packages (from requests[socks]->scholarly) (1.7.1)\n",
            "Requirement already satisfied: trio~=0.17 in /usr/local/lib/python3.8/dist-packages (from selenium->scholarly) (0.22.0)\n",
            "Requirement already satisfied: trio-websocket~=0.9 in /usr/local/lib/python3.8/dist-packages (from selenium->scholarly) (0.9.2)\n",
            "Requirement already satisfied: docutils<0.19 in /usr/local/lib/python3.8/dist-packages (from sphinx-rtd-theme->scholarly) (0.16)\n",
            "Requirement already satisfied: sphinx<7,>=1.6 in /usr/local/lib/python3.8/dist-packages (from sphinx-rtd-theme->scholarly) (3.5.4)\n",
            "Requirement already satisfied: sphinxcontrib-jquery!=3.0.0,>=2.0.0 in /usr/local/lib/python3.8/dist-packages (from sphinx-rtd-theme->scholarly) (2.0.0)\n",
            "Requirement already satisfied: h11<0.15,>=0.13 in /usr/local/lib/python3.8/dist-packages (from httpcore<0.17.0,>=0.15.0->httpx->scholarly) (0.14.0)\n",
            "Requirement already satisfied: anyio<5.0,>=3.0 in /usr/local/lib/python3.8/dist-packages (from httpcore<0.17.0,>=0.15.0->httpx->scholarly) (3.6.2)\n",
            "Requirement already satisfied: zipp>=3.1.0 in /usr/local/lib/python3.8/dist-packages (from importlib-resources>=5.0->fake-useragent->scholarly) (3.15.0)\n",
            "Requirement already satisfied: six>=1.5 in /usr/local/lib/python3.8/dist-packages (from python-dateutil>=2.7.0->arrow->scholarly) (1.15.0)\n",
            "Requirement already satisfied: packaging in /usr/local/lib/python3.8/dist-packages (from sphinx<7,>=1.6->sphinx-rtd-theme->scholarly) (23.0)\n",
            "Requirement already satisfied: sphinxcontrib-applehelp in /usr/local/lib/python3.8/dist-packages (from sphinx<7,>=1.6->sphinx-rtd-theme->scholarly) (1.0.4)\n",
            "Requirement already satisfied: sphinxcontrib-htmlhelp in /usr/local/lib/python3.8/dist-packages (from sphinx<7,>=1.6->sphinx-rtd-theme->scholarly) (2.0.1)\n",
            "Requirement already satisfied: Pygments>=2.0 in /usr/local/lib/python3.8/dist-packages (from sphinx<7,>=1.6->sphinx-rtd-theme->scholarly) (2.6.1)\n",
            "Requirement already satisfied: setuptools in /usr/local/lib/python3.8/dist-packages (from sphinx<7,>=1.6->sphinx-rtd-theme->scholarly) (57.4.0)\n",
            "Requirement already satisfied: sphinxcontrib-qthelp in /usr/local/lib/python3.8/dist-packages (from sphinx<7,>=1.6->sphinx-rtd-theme->scholarly) (1.0.3)\n",
            "Requirement already satisfied: sphinxcontrib-serializinghtml in /usr/local/lib/python3.8/dist-packages (from sphinx<7,>=1.6->sphinx-rtd-theme->scholarly) (1.1.5)\n",
            "Requirement already satisfied: sphinxcontrib-devhelp in /usr/local/lib/python3.8/dist-packages (from sphinx<7,>=1.6->sphinx-rtd-theme->scholarly) (1.0.2)\n",
            "Requirement already satisfied: imagesize in /usr/local/lib/python3.8/dist-packages (from sphinx<7,>=1.6->sphinx-rtd-theme->scholarly) (1.4.1)\n",
            "Requirement already satisfied: alabaster<0.8,>=0.7 in /usr/local/lib/python3.8/dist-packages (from sphinx<7,>=1.6->sphinx-rtd-theme->scholarly) (0.7.13)\n",
            "Requirement already satisfied: sphinxcontrib-jsmath in /usr/local/lib/python3.8/dist-packages (from sphinx<7,>=1.6->sphinx-rtd-theme->scholarly) (1.0.1)\n",
            "Requirement already satisfied: snowballstemmer>=1.1 in /usr/local/lib/python3.8/dist-packages (from sphinx<7,>=1.6->sphinx-rtd-theme->scholarly) (2.2.0)\n",
            "Requirement already satisfied: Jinja2>=2.3 in /usr/local/lib/python3.8/dist-packages (from sphinx<7,>=1.6->sphinx-rtd-theme->scholarly) (3.1.2)\n",
            "Requirement already satisfied: babel>=1.3 in /usr/local/lib/python3.8/dist-packages (from sphinx<7,>=1.6->sphinx-rtd-theme->scholarly) (2.12.1)\n",
            "Requirement already satisfied: async-generator>=1.9 in /usr/local/lib/python3.8/dist-packages (from trio~=0.17->selenium->scholarly) (1.10)\n",
            "Requirement already satisfied: attrs>=19.2.0 in /usr/local/lib/python3.8/dist-packages (from trio~=0.17->selenium->scholarly) (22.2.0)\n",
            "Requirement already satisfied: exceptiongroup>=1.0.0rc9 in /usr/local/lib/python3.8/dist-packages (from trio~=0.17->selenium->scholarly) (1.1.0)\n",
            "Requirement already satisfied: outcome in /usr/local/lib/python3.8/dist-packages (from trio~=0.17->selenium->scholarly) (1.2.0)\n",
            "Requirement already satisfied: sortedcontainers in /usr/local/lib/python3.8/dist-packages (from trio~=0.17->selenium->scholarly) (2.4.0)\n",
            "Requirement already satisfied: wsproto>=0.14 in /usr/local/lib/python3.8/dist-packages (from trio-websocket~=0.9->selenium->scholarly) (1.2.0)\n",
            "Requirement already satisfied: pytz>=2015.7 in /usr/local/lib/python3.8/dist-packages (from babel>=1.3->sphinx<7,>=1.6->sphinx-rtd-theme->scholarly) (2022.7.1)\n",
            "Requirement already satisfied: MarkupSafe>=2.0 in /usr/local/lib/python3.8/dist-packages (from Jinja2>=2.3->sphinx<7,>=1.6->sphinx-rtd-theme->scholarly) (2.1.2)\n"
          ]
        }
      ]
    },
    {
      "cell_type": "code",
      "source": [
        "#import libraries\n",
        "import csv\n",
        "import time\n",
        "from scholarly import scholarly\n",
        "from scholarly import ProxyGenerator\n"
      ],
      "metadata": {
        "id": "MUMCyVclQPjq"
      },
      "execution_count": 2,
      "outputs": []
    },
    {
      "cell_type": "code",
      "source": [
        "# Set up a ProxyGenerator object to use free proxies\n",
        "# This needs to be done only once per session\n",
        "pg = ProxyGenerator()\n",
        "pg.FreeProxies()\n",
        "scholarly.use_proxy(pg)"
      ],
      "metadata": {
        "id": "Em7Aymhu8EPy"
      },
      "execution_count": 3,
      "outputs": []
    },
    {
      "cell_type": "code",
      "source": [
        "# Define the search query\n",
        "search_query = \"Ranked Multi Armed Bandits\"\n",
        "\n",
        "# Perform the search\n",
        "search_results = scholarly.search_pubs(search_query)"
      ],
      "metadata": {
        "id": "Vz2s6SXh8Gp7"
      },
      "execution_count": 4,
      "outputs": []
    },
    {
      "cell_type": "code",
      "source": [
        "# Define the CSV file and header\n",
        "csv_file = 'papers.csv'\n",
        "header = ['Title', 'Author(s)', 'Citations']"
      ],
      "metadata": {
        "id": "LjeShyJMXxwb"
      },
      "execution_count": 5,
      "outputs": []
    },
    {
      "cell_type": "code",
      "source": [
        "# Open the CSV file and write the header\n",
        "with open(csv_file, mode='w', newline='', encoding='utf-8') as file:\n",
        "    writer = csv.writer(file)\n",
        "    writer.writerow(header)\n",
        "\n",
        "    # Loop through the search results and write the top 10 cited papers to the CSV file\n",
        "    for i, result in enumerate(search_results):\n",
        "        if i >= 20: #Edit depending upon the number of papers you need\n",
        "            break\n",
        "        bib = result['bib']\n",
        "        title = bib['title']\n",
        "        authors = bib['author']\n",
        "        citations = result['num_citations']\n",
        "        #You can add more variables depending upon the metadata you need\n",
        "        writer.writerow([title, authors, citations])\n",
        "        time.sleep(1) # Add a delay of 1 second between each search query to avoid hitting rate limits"
      ],
      "metadata": {
        "id": "VQBZsp-d8RFR"
      },
      "execution_count": 6,
      "outputs": []
    },
    {
      "cell_type": "code",
      "source": [],
      "metadata": {
        "id": "TQd-Jwq384kh"
      },
      "execution_count": 6,
      "outputs": []
    }
  ]
}